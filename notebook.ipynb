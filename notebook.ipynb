{
  "cells": [
    {
      "cell_type": "markdown",
      "metadata": {
        "id": "H9wADwK78DCz"
      },
      "source": [
        "# Proyek Analisis Data: [Input Nama Dataset]\n",
        "- **Nama:** [Daffa Maheswara Iswidono]\n",
        "- **Email:** [M004D4KY3025@bangkit.academy]\n",
        "- **ID Dicoding:** [daffa_maheswara]"
      ]
    },
    {
      "cell_type": "markdown",
      "metadata": {
        "id": "eE0raob58DC0"
      },
      "source": [
        "## Menentukan Pertanyaan Bisnis"
      ]
    },
    {
      "cell_type": "markdown",
      "metadata": {
        "id": "GmQeQ5YF8DC0"
      },
      "source": [
        "\n",
        "\n",
        "```\n",
        "# This is formatted as code\n",
        "```\n",
        "\n",
        "- Pertanyaan 1 : Apa polutan udara yang paling banyak?\n",
        "- Pertanyaan 2 : Bagaimana tren kualitas udara dari waktu ke waktu?"
      ]
    },
    {
      "cell_type": "markdown",
      "metadata": {
        "id": "H-z4QGlO8DC1"
      },
      "source": [
        "## Import Semua Packages/Library yang Digunakan"
      ]
    },
    {
      "cell_type": "code",
      "execution_count": 76,
      "metadata": {
        "id": "FVYwaObI8DC1"
      },
      "outputs": [],
      "source": [
        "import pandas as pd\n",
        "import matplotlib.pyplot as plt\n",
        "import numpy as np\n",
        "import seaborn as sns"
      ]
    },
    {
      "cell_type": "markdown",
      "metadata": {
        "id": "h_Sh51Xy8DC1"
      },
      "source": [
        "## Data Wrangling"
      ]
    },
    {
      "cell_type": "markdown",
      "metadata": {
        "id": "sXU2GBYu8DC1"
      },
      "source": [
        "### Gathering Data"
      ]
    },
    {
      "cell_type": "code",
      "execution_count": 77,
      "metadata": {
        "colab": {
          "base_uri": "https://localhost:8080/"
        },
        "id": "zjCBk1BI8DC1",
        "outputId": "44459dde-fb04-4986-9f7f-fc73c6c3b830"
      },
      "outputs": [
        {
          "output_type": "stream",
          "name": "stdout",
          "text": [
            "           No  year  month  day  hour  PM2.5  PM10   SO2   NO2     CO    O3  \\\n",
            "0           1  2013      3    1     0    4.0   4.0   4.0   7.0  300.0  77.0   \n",
            "1           2  2013      3    1     1    8.0   8.0   4.0   7.0  300.0  77.0   \n",
            "2           3  2013      3    1     2    7.0   7.0   5.0  10.0  300.0  73.0   \n",
            "3           4  2013      3    1     3    6.0   6.0  11.0  11.0  300.0  72.0   \n",
            "4           5  2013      3    1     4    3.0   3.0  12.0  12.0  300.0  72.0   \n",
            "...       ...   ...    ...  ...   ...    ...   ...   ...   ...    ...   ...   \n",
            "420763  35060  2017      2   28    19   11.0  32.0   3.0  24.0  400.0  72.0   \n",
            "420764  35061  2017      2   28    20   13.0  32.0   3.0  41.0  500.0  50.0   \n",
            "420765  35062  2017      2   28    21   14.0  28.0   4.0  38.0  500.0  54.0   \n",
            "420766  35063  2017      2   28    22   12.0  23.0   4.0  30.0  400.0  59.0   \n",
            "420767  35064  2017      2   28    23   13.0  19.0   4.0  38.0  600.0  49.0   \n",
            "\n",
            "        TEMP    PRES  DEWP  RAIN   wd  WSPM        station  \n",
            "0       -0.7  1023.0 -18.8   0.0  NNW   4.4   Aotizhongxin  \n",
            "1       -1.1  1023.2 -18.2   0.0    N   4.7   Aotizhongxin  \n",
            "2       -1.1  1023.5 -18.2   0.0  NNW   5.6   Aotizhongxin  \n",
            "3       -1.4  1024.5 -19.4   0.0   NW   3.1   Aotizhongxin  \n",
            "4       -2.0  1025.2 -19.5   0.0    N   2.0   Aotizhongxin  \n",
            "...      ...     ...   ...   ...  ...   ...            ...  \n",
            "420763  12.5  1013.5 -16.2   0.0   NW   2.4  Wanshouxigong  \n",
            "420764  11.6  1013.6 -15.1   0.0  WNW   0.9  Wanshouxigong  \n",
            "420765  10.8  1014.2 -13.3   0.0   NW   1.1  Wanshouxigong  \n",
            "420766  10.5  1014.4 -12.9   0.0  NNW   1.2  Wanshouxigong  \n",
            "420767   8.6  1014.1 -15.9   0.0  NNE   1.3  Wanshouxigong  \n",
            "\n",
            "[420768 rows x 18 columns]\n"
          ]
        }
      ],
      "source": [
        "import pandas as pd\n",
        "\n",
        "# List files\n",
        "sources = [\n",
        "    'PRSA_Data_Aotizhongxin_20130301-20170228.csv',\n",
        "    'PRSA_Data_Changping_20130301-20170228.csv',\n",
        "    'PRSA_Data_Dingling_20130301-20170228.csv',\n",
        "    'PRSA_Data_Dongsi_20130301-20170228.csv',\n",
        "    'PRSA_Data_Guanyuan_20130301-20170228.csv',\n",
        "    'PRSA_Data_Gucheng_20130301-20170228.csv',\n",
        "    'PRSA_Data_Huairou_20130301-20170228.csv',\n",
        "    'PRSA_Data_Nongzhanguan_20130301-20170228.csv',\n",
        "    'PRSA_Data_Shunyi_20130301-20170228.csv',\n",
        "    'PRSA_Data_Tiantan_20130301-20170228.csv',\n",
        "    'PRSA_Data_Wanliu_20130301-20170228.csv',\n",
        "    'PRSA_Data_Wanshouxigong_20130301-20170228.csv'\n",
        "]\n",
        "\n",
        "# Read each CSV file into a dataframe and store them in a list\n",
        "dfs = []\n",
        "for source in sources:\n",
        "    df = pd.read_csv(source)\n",
        "    dfs.append(df)\n",
        "\n",
        "# Concatenate all dataframes into one\n",
        "combined_df = pd.concat(dfs, ignore_index=True)\n",
        "\n",
        "# Display the combined dataframe\n",
        "print(combined_df)\n"
      ]
    },
    {
      "cell_type": "code",
      "source": [
        "# Assuming you already have combined_df from previous steps\n",
        "combined_df.drop(labels='No', axis=1, inplace=True)\n",
        "combined_df.describe()\n"
      ],
      "metadata": {
        "colab": {
          "base_uri": "https://localhost:8080/",
          "height": 320
        },
        "id": "hc2jNlET-h4x",
        "outputId": "8253af7b-8a45-45ba-9395-1a5128f279bc"
      },
      "execution_count": 78,
      "outputs": [
        {
          "output_type": "execute_result",
          "data": {
            "text/plain": [
              "                year          month            day           hour  \\\n",
              "count  420768.000000  420768.000000  420768.000000  420768.000000   \n",
              "mean     2014.662560       6.522930      15.729637      11.500000   \n",
              "std         1.177198       3.448707       8.800102       6.922195   \n",
              "min      2013.000000       1.000000       1.000000       0.000000   \n",
              "25%      2014.000000       4.000000       8.000000       5.750000   \n",
              "50%      2015.000000       7.000000      16.000000      11.500000   \n",
              "75%      2016.000000      10.000000      23.000000      17.250000   \n",
              "max      2017.000000      12.000000      31.000000      23.000000   \n",
              "\n",
              "               PM2.5           PM10            SO2            NO2  \\\n",
              "count  412029.000000  414319.000000  411747.000000  408652.000000   \n",
              "mean       79.793428     104.602618      15.830835      50.638586   \n",
              "std        80.822391      91.772426      21.650603      35.127912   \n",
              "min         2.000000       2.000000       0.285600       1.026500   \n",
              "25%        20.000000      36.000000       3.000000      23.000000   \n",
              "50%        55.000000      82.000000       7.000000      43.000000   \n",
              "75%       111.000000     145.000000      20.000000      71.000000   \n",
              "max       999.000000     999.000000     500.000000     290.000000   \n",
              "\n",
              "                  CO             O3           TEMP           PRES  \\\n",
              "count  400067.000000  407491.000000  420370.000000  420375.000000   \n",
              "mean     1230.766454      57.372271      13.538976    1010.746982   \n",
              "std      1160.182716      56.661607      11.436139      10.474055   \n",
              "min       100.000000       0.214200     -19.900000     982.400000   \n",
              "25%       500.000000      11.000000       3.100000    1002.300000   \n",
              "50%       900.000000      45.000000      14.500000    1010.400000   \n",
              "75%      1500.000000      82.000000      23.300000    1019.000000   \n",
              "max     10000.000000    1071.000000      41.600000    1042.800000   \n",
              "\n",
              "                DEWP           RAIN           WSPM  \n",
              "count  420365.000000  420378.000000  420450.000000  \n",
              "mean        2.490822       0.064476       1.729711  \n",
              "std        13.793847       0.821004       1.246386  \n",
              "min       -43.400000       0.000000       0.000000  \n",
              "25%        -8.900000       0.000000       0.900000  \n",
              "50%         3.100000       0.000000       1.400000  \n",
              "75%        15.100000       0.000000       2.200000  \n",
              "max        29.100000      72.500000      13.200000  "
            ],
            "text/html": [
              "\n",
              "  <div id=\"df-a6ac8c7e-2b0e-4e45-9b93-6f697d71d681\" class=\"colab-df-container\">\n",
              "    <div>\n",
              "<style scoped>\n",
              "    .dataframe tbody tr th:only-of-type {\n",
              "        vertical-align: middle;\n",
              "    }\n",
              "\n",
              "    .dataframe tbody tr th {\n",
              "        vertical-align: top;\n",
              "    }\n",
              "\n",
              "    .dataframe thead th {\n",
              "        text-align: right;\n",
              "    }\n",
              "</style>\n",
              "<table border=\"1\" class=\"dataframe\">\n",
              "  <thead>\n",
              "    <tr style=\"text-align: right;\">\n",
              "      <th></th>\n",
              "      <th>year</th>\n",
              "      <th>month</th>\n",
              "      <th>day</th>\n",
              "      <th>hour</th>\n",
              "      <th>PM2.5</th>\n",
              "      <th>PM10</th>\n",
              "      <th>SO2</th>\n",
              "      <th>NO2</th>\n",
              "      <th>CO</th>\n",
              "      <th>O3</th>\n",
              "      <th>TEMP</th>\n",
              "      <th>PRES</th>\n",
              "      <th>DEWP</th>\n",
              "      <th>RAIN</th>\n",
              "      <th>WSPM</th>\n",
              "    </tr>\n",
              "  </thead>\n",
              "  <tbody>\n",
              "    <tr>\n",
              "      <th>count</th>\n",
              "      <td>420768.000000</td>\n",
              "      <td>420768.000000</td>\n",
              "      <td>420768.000000</td>\n",
              "      <td>420768.000000</td>\n",
              "      <td>412029.000000</td>\n",
              "      <td>414319.000000</td>\n",
              "      <td>411747.000000</td>\n",
              "      <td>408652.000000</td>\n",
              "      <td>400067.000000</td>\n",
              "      <td>407491.000000</td>\n",
              "      <td>420370.000000</td>\n",
              "      <td>420375.000000</td>\n",
              "      <td>420365.000000</td>\n",
              "      <td>420378.000000</td>\n",
              "      <td>420450.000000</td>\n",
              "    </tr>\n",
              "    <tr>\n",
              "      <th>mean</th>\n",
              "      <td>2014.662560</td>\n",
              "      <td>6.522930</td>\n",
              "      <td>15.729637</td>\n",
              "      <td>11.500000</td>\n",
              "      <td>79.793428</td>\n",
              "      <td>104.602618</td>\n",
              "      <td>15.830835</td>\n",
              "      <td>50.638586</td>\n",
              "      <td>1230.766454</td>\n",
              "      <td>57.372271</td>\n",
              "      <td>13.538976</td>\n",
              "      <td>1010.746982</td>\n",
              "      <td>2.490822</td>\n",
              "      <td>0.064476</td>\n",
              "      <td>1.729711</td>\n",
              "    </tr>\n",
              "    <tr>\n",
              "      <th>std</th>\n",
              "      <td>1.177198</td>\n",
              "      <td>3.448707</td>\n",
              "      <td>8.800102</td>\n",
              "      <td>6.922195</td>\n",
              "      <td>80.822391</td>\n",
              "      <td>91.772426</td>\n",
              "      <td>21.650603</td>\n",
              "      <td>35.127912</td>\n",
              "      <td>1160.182716</td>\n",
              "      <td>56.661607</td>\n",
              "      <td>11.436139</td>\n",
              "      <td>10.474055</td>\n",
              "      <td>13.793847</td>\n",
              "      <td>0.821004</td>\n",
              "      <td>1.246386</td>\n",
              "    </tr>\n",
              "    <tr>\n",
              "      <th>min</th>\n",
              "      <td>2013.000000</td>\n",
              "      <td>1.000000</td>\n",
              "      <td>1.000000</td>\n",
              "      <td>0.000000</td>\n",
              "      <td>2.000000</td>\n",
              "      <td>2.000000</td>\n",
              "      <td>0.285600</td>\n",
              "      <td>1.026500</td>\n",
              "      <td>100.000000</td>\n",
              "      <td>0.214200</td>\n",
              "      <td>-19.900000</td>\n",
              "      <td>982.400000</td>\n",
              "      <td>-43.400000</td>\n",
              "      <td>0.000000</td>\n",
              "      <td>0.000000</td>\n",
              "    </tr>\n",
              "    <tr>\n",
              "      <th>25%</th>\n",
              "      <td>2014.000000</td>\n",
              "      <td>4.000000</td>\n",
              "      <td>8.000000</td>\n",
              "      <td>5.750000</td>\n",
              "      <td>20.000000</td>\n",
              "      <td>36.000000</td>\n",
              "      <td>3.000000</td>\n",
              "      <td>23.000000</td>\n",
              "      <td>500.000000</td>\n",
              "      <td>11.000000</td>\n",
              "      <td>3.100000</td>\n",
              "      <td>1002.300000</td>\n",
              "      <td>-8.900000</td>\n",
              "      <td>0.000000</td>\n",
              "      <td>0.900000</td>\n",
              "    </tr>\n",
              "    <tr>\n",
              "      <th>50%</th>\n",
              "      <td>2015.000000</td>\n",
              "      <td>7.000000</td>\n",
              "      <td>16.000000</td>\n",
              "      <td>11.500000</td>\n",
              "      <td>55.000000</td>\n",
              "      <td>82.000000</td>\n",
              "      <td>7.000000</td>\n",
              "      <td>43.000000</td>\n",
              "      <td>900.000000</td>\n",
              "      <td>45.000000</td>\n",
              "      <td>14.500000</td>\n",
              "      <td>1010.400000</td>\n",
              "      <td>3.100000</td>\n",
              "      <td>0.000000</td>\n",
              "      <td>1.400000</td>\n",
              "    </tr>\n",
              "    <tr>\n",
              "      <th>75%</th>\n",
              "      <td>2016.000000</td>\n",
              "      <td>10.000000</td>\n",
              "      <td>23.000000</td>\n",
              "      <td>17.250000</td>\n",
              "      <td>111.000000</td>\n",
              "      <td>145.000000</td>\n",
              "      <td>20.000000</td>\n",
              "      <td>71.000000</td>\n",
              "      <td>1500.000000</td>\n",
              "      <td>82.000000</td>\n",
              "      <td>23.300000</td>\n",
              "      <td>1019.000000</td>\n",
              "      <td>15.100000</td>\n",
              "      <td>0.000000</td>\n",
              "      <td>2.200000</td>\n",
              "    </tr>\n",
              "    <tr>\n",
              "      <th>max</th>\n",
              "      <td>2017.000000</td>\n",
              "      <td>12.000000</td>\n",
              "      <td>31.000000</td>\n",
              "      <td>23.000000</td>\n",
              "      <td>999.000000</td>\n",
              "      <td>999.000000</td>\n",
              "      <td>500.000000</td>\n",
              "      <td>290.000000</td>\n",
              "      <td>10000.000000</td>\n",
              "      <td>1071.000000</td>\n",
              "      <td>41.600000</td>\n",
              "      <td>1042.800000</td>\n",
              "      <td>29.100000</td>\n",
              "      <td>72.500000</td>\n",
              "      <td>13.200000</td>\n",
              "    </tr>\n",
              "  </tbody>\n",
              "</table>\n",
              "</div>\n",
              "    <div class=\"colab-df-buttons\">\n",
              "\n",
              "  <div class=\"colab-df-container\">\n",
              "    <button class=\"colab-df-convert\" onclick=\"convertToInteractive('df-a6ac8c7e-2b0e-4e45-9b93-6f697d71d681')\"\n",
              "            title=\"Convert this dataframe to an interactive table.\"\n",
              "            style=\"display:none;\">\n",
              "\n",
              "  <svg xmlns=\"http://www.w3.org/2000/svg\" height=\"24px\" viewBox=\"0 -960 960 960\">\n",
              "    <path d=\"M120-120v-720h720v720H120Zm60-500h600v-160H180v160Zm220 220h160v-160H400v160Zm0 220h160v-160H400v160ZM180-400h160v-160H180v160Zm440 0h160v-160H620v160ZM180-180h160v-160H180v160Zm440 0h160v-160H620v160Z\"/>\n",
              "  </svg>\n",
              "    </button>\n",
              "\n",
              "  <style>\n",
              "    .colab-df-container {\n",
              "      display:flex;\n",
              "      gap: 12px;\n",
              "    }\n",
              "\n",
              "    .colab-df-convert {\n",
              "      background-color: #E8F0FE;\n",
              "      border: none;\n",
              "      border-radius: 50%;\n",
              "      cursor: pointer;\n",
              "      display: none;\n",
              "      fill: #1967D2;\n",
              "      height: 32px;\n",
              "      padding: 0 0 0 0;\n",
              "      width: 32px;\n",
              "    }\n",
              "\n",
              "    .colab-df-convert:hover {\n",
              "      background-color: #E2EBFA;\n",
              "      box-shadow: 0px 1px 2px rgba(60, 64, 67, 0.3), 0px 1px 3px 1px rgba(60, 64, 67, 0.15);\n",
              "      fill: #174EA6;\n",
              "    }\n",
              "\n",
              "    .colab-df-buttons div {\n",
              "      margin-bottom: 4px;\n",
              "    }\n",
              "\n",
              "    [theme=dark] .colab-df-convert {\n",
              "      background-color: #3B4455;\n",
              "      fill: #D2E3FC;\n",
              "    }\n",
              "\n",
              "    [theme=dark] .colab-df-convert:hover {\n",
              "      background-color: #434B5C;\n",
              "      box-shadow: 0px 1px 3px 1px rgba(0, 0, 0, 0.15);\n",
              "      filter: drop-shadow(0px 1px 2px rgba(0, 0, 0, 0.3));\n",
              "      fill: #FFFFFF;\n",
              "    }\n",
              "  </style>\n",
              "\n",
              "    <script>\n",
              "      const buttonEl =\n",
              "        document.querySelector('#df-a6ac8c7e-2b0e-4e45-9b93-6f697d71d681 button.colab-df-convert');\n",
              "      buttonEl.style.display =\n",
              "        google.colab.kernel.accessAllowed ? 'block' : 'none';\n",
              "\n",
              "      async function convertToInteractive(key) {\n",
              "        const element = document.querySelector('#df-a6ac8c7e-2b0e-4e45-9b93-6f697d71d681');\n",
              "        const dataTable =\n",
              "          await google.colab.kernel.invokeFunction('convertToInteractive',\n",
              "                                                    [key], {});\n",
              "        if (!dataTable) return;\n",
              "\n",
              "        const docLinkHtml = 'Like what you see? Visit the ' +\n",
              "          '<a target=\"_blank\" href=https://colab.research.google.com/notebooks/data_table.ipynb>data table notebook</a>'\n",
              "          + ' to learn more about interactive tables.';\n",
              "        element.innerHTML = '';\n",
              "        dataTable['output_type'] = 'display_data';\n",
              "        await google.colab.output.renderOutput(dataTable, element);\n",
              "        const docLink = document.createElement('div');\n",
              "        docLink.innerHTML = docLinkHtml;\n",
              "        element.appendChild(docLink);\n",
              "      }\n",
              "    </script>\n",
              "  </div>\n",
              "\n",
              "\n",
              "<div id=\"df-54657192-b7de-4d71-8726-06649584706e\">\n",
              "  <button class=\"colab-df-quickchart\" onclick=\"quickchart('df-54657192-b7de-4d71-8726-06649584706e')\"\n",
              "            title=\"Suggest charts\"\n",
              "            style=\"display:none;\">\n",
              "\n",
              "<svg xmlns=\"http://www.w3.org/2000/svg\" height=\"24px\"viewBox=\"0 0 24 24\"\n",
              "     width=\"24px\">\n",
              "    <g>\n",
              "        <path d=\"M19 3H5c-1.1 0-2 .9-2 2v14c0 1.1.9 2 2 2h14c1.1 0 2-.9 2-2V5c0-1.1-.9-2-2-2zM9 17H7v-7h2v7zm4 0h-2V7h2v10zm4 0h-2v-4h2v4z\"/>\n",
              "    </g>\n",
              "</svg>\n",
              "  </button>\n",
              "\n",
              "<style>\n",
              "  .colab-df-quickchart {\n",
              "      --bg-color: #E8F0FE;\n",
              "      --fill-color: #1967D2;\n",
              "      --hover-bg-color: #E2EBFA;\n",
              "      --hover-fill-color: #174EA6;\n",
              "      --disabled-fill-color: #AAA;\n",
              "      --disabled-bg-color: #DDD;\n",
              "  }\n",
              "\n",
              "  [theme=dark] .colab-df-quickchart {\n",
              "      --bg-color: #3B4455;\n",
              "      --fill-color: #D2E3FC;\n",
              "      --hover-bg-color: #434B5C;\n",
              "      --hover-fill-color: #FFFFFF;\n",
              "      --disabled-bg-color: #3B4455;\n",
              "      --disabled-fill-color: #666;\n",
              "  }\n",
              "\n",
              "  .colab-df-quickchart {\n",
              "    background-color: var(--bg-color);\n",
              "    border: none;\n",
              "    border-radius: 50%;\n",
              "    cursor: pointer;\n",
              "    display: none;\n",
              "    fill: var(--fill-color);\n",
              "    height: 32px;\n",
              "    padding: 0;\n",
              "    width: 32px;\n",
              "  }\n",
              "\n",
              "  .colab-df-quickchart:hover {\n",
              "    background-color: var(--hover-bg-color);\n",
              "    box-shadow: 0 1px 2px rgba(60, 64, 67, 0.3), 0 1px 3px 1px rgba(60, 64, 67, 0.15);\n",
              "    fill: var(--button-hover-fill-color);\n",
              "  }\n",
              "\n",
              "  .colab-df-quickchart-complete:disabled,\n",
              "  .colab-df-quickchart-complete:disabled:hover {\n",
              "    background-color: var(--disabled-bg-color);\n",
              "    fill: var(--disabled-fill-color);\n",
              "    box-shadow: none;\n",
              "  }\n",
              "\n",
              "  .colab-df-spinner {\n",
              "    border: 2px solid var(--fill-color);\n",
              "    border-color: transparent;\n",
              "    border-bottom-color: var(--fill-color);\n",
              "    animation:\n",
              "      spin 1s steps(1) infinite;\n",
              "  }\n",
              "\n",
              "  @keyframes spin {\n",
              "    0% {\n",
              "      border-color: transparent;\n",
              "      border-bottom-color: var(--fill-color);\n",
              "      border-left-color: var(--fill-color);\n",
              "    }\n",
              "    20% {\n",
              "      border-color: transparent;\n",
              "      border-left-color: var(--fill-color);\n",
              "      border-top-color: var(--fill-color);\n",
              "    }\n",
              "    30% {\n",
              "      border-color: transparent;\n",
              "      border-left-color: var(--fill-color);\n",
              "      border-top-color: var(--fill-color);\n",
              "      border-right-color: var(--fill-color);\n",
              "    }\n",
              "    40% {\n",
              "      border-color: transparent;\n",
              "      border-right-color: var(--fill-color);\n",
              "      border-top-color: var(--fill-color);\n",
              "    }\n",
              "    60% {\n",
              "      border-color: transparent;\n",
              "      border-right-color: var(--fill-color);\n",
              "    }\n",
              "    80% {\n",
              "      border-color: transparent;\n",
              "      border-right-color: var(--fill-color);\n",
              "      border-bottom-color: var(--fill-color);\n",
              "    }\n",
              "    90% {\n",
              "      border-color: transparent;\n",
              "      border-bottom-color: var(--fill-color);\n",
              "    }\n",
              "  }\n",
              "</style>\n",
              "\n",
              "  <script>\n",
              "    async function quickchart(key) {\n",
              "      const quickchartButtonEl =\n",
              "        document.querySelector('#' + key + ' button');\n",
              "      quickchartButtonEl.disabled = true;  // To prevent multiple clicks.\n",
              "      quickchartButtonEl.classList.add('colab-df-spinner');\n",
              "      try {\n",
              "        const charts = await google.colab.kernel.invokeFunction(\n",
              "            'suggestCharts', [key], {});\n",
              "      } catch (error) {\n",
              "        console.error('Error during call to suggestCharts:', error);\n",
              "      }\n",
              "      quickchartButtonEl.classList.remove('colab-df-spinner');\n",
              "      quickchartButtonEl.classList.add('colab-df-quickchart-complete');\n",
              "    }\n",
              "    (() => {\n",
              "      let quickchartButtonEl =\n",
              "        document.querySelector('#df-54657192-b7de-4d71-8726-06649584706e button');\n",
              "      quickchartButtonEl.style.display =\n",
              "        google.colab.kernel.accessAllowed ? 'block' : 'none';\n",
              "    })();\n",
              "  </script>\n",
              "</div>\n",
              "    </div>\n",
              "  </div>\n"
            ],
            "application/vnd.google.colaboratory.intrinsic+json": {
              "type": "dataframe",
              "summary": "{\n  \"name\": \"combined_df\",\n  \"rows\": 8,\n  \"fields\": [\n    {\n      \"column\": \"year\",\n      \"properties\": {\n        \"dtype\": \"number\",\n        \"std\": 148154.94925971588,\n        \"min\": 1.1771980439300977,\n        \"max\": 420768.0,\n        \"num_unique_values\": 8,\n        \"samples\": [\n          2014.662559890486,\n          2015.0,\n          420768.0\n        ],\n        \"semantic_type\": \"\",\n        \"description\": \"\"\n      }\n    },\n    {\n      \"column\": \"month\",\n      \"properties\": {\n        \"dtype\": \"number\",\n        \"std\": 148761.7321924742,\n        \"min\": 1.0,\n        \"max\": 420768.0,\n        \"num_unique_values\": 8,\n        \"samples\": [\n          6.522929500342231,\n          7.0,\n          420768.0\n        ],\n        \"semantic_type\": \"\",\n        \"description\": \"\"\n      }\n    },\n    {\n      \"column\": \"day\",\n      \"properties\": {\n        \"dtype\": \"number\",\n        \"std\": 148758.72430198622,\n        \"min\": 1.0,\n        \"max\": 420768.0,\n        \"num_unique_values\": 8,\n        \"samples\": [\n          15.729637234770705,\n          16.0,\n          420768.0\n        ],\n        \"semantic_type\": \"\",\n        \"description\": \"\"\n      }\n    },\n    {\n      \"column\": \"hour\",\n      \"properties\": {\n        \"dtype\": \"number\",\n        \"std\": 148760.11857061606,\n        \"min\": 0.0,\n        \"max\": 420768.0,\n        \"num_unique_values\": 7,\n        \"samples\": [\n          420768.0,\n          11.5,\n          17.25\n        ],\n        \"semantic_type\": \"\",\n        \"description\": \"\"\n      }\n    },\n    {\n      \"column\": \"PM2.5\",\n      \"properties\": {\n        \"dtype\": \"number\",\n        \"std\": 145606.5614582978,\n        \"min\": 2.0,\n        \"max\": 412029.0,\n        \"num_unique_values\": 8,\n        \"samples\": [\n          79.79342813248583,\n          55.0,\n          412029.0\n        ],\n        \"semantic_type\": \"\",\n        \"description\": \"\"\n      }\n    },\n    {\n      \"column\": \"PM10\",\n      \"properties\": {\n        \"dtype\": \"number\",\n        \"std\": 146410.48902997762,\n        \"min\": 2.0,\n        \"max\": 414319.0,\n        \"num_unique_values\": 8,\n        \"samples\": [\n          104.6026175483142,\n          82.0,\n          414319.0\n        ],\n        \"semantic_type\": \"\",\n        \"description\": \"\"\n      }\n    },\n    {\n      \"column\": \"SO2\",\n      \"properties\": {\n        \"dtype\": \"number\",\n        \"std\": 145545.97201903735,\n        \"min\": 0.2856,\n        \"max\": 411747.0,\n        \"num_unique_values\": 8,\n        \"samples\": [\n          15.830834699949245,\n          7.0,\n          411747.0\n        ],\n        \"semantic_type\": \"\",\n        \"description\": \"\"\n      }\n    },\n    {\n      \"column\": \"NO2\",\n      \"properties\": {\n        \"dtype\": \"number\",\n        \"std\": 144454.37819226237,\n        \"min\": 1.0265,\n        \"max\": 408652.0,\n        \"num_unique_values\": 8,\n        \"samples\": [\n          50.63858559263139,\n          43.0,\n          408652.0\n        ],\n        \"semantic_type\": \"\",\n        \"description\": \"\"\n      }\n    },\n    {\n      \"column\": \"CO\",\n      \"properties\": {\n        \"dtype\": \"number\",\n        \"std\": 140704.41248938342,\n        \"min\": 100.0,\n        \"max\": 400067.0,\n        \"num_unique_values\": 8,\n        \"samples\": [\n          1230.7664541189351,\n          900.0,\n          400067.0\n        ],\n        \"semantic_type\": \"\",\n        \"description\": \"\"\n      }\n    },\n    {\n      \"column\": \"O3\",\n      \"properties\": {\n        \"dtype\": \"number\",\n        \"std\": 144003.44307150846,\n        \"min\": 0.2142,\n        \"max\": 407491.0,\n        \"num_unique_values\": 8,\n        \"samples\": [\n          57.37227127961109,\n          45.0,\n          407491.0\n        ],\n        \"semantic_type\": \"\",\n        \"description\": \"\"\n      }\n    },\n    {\n      \"column\": \"TEMP\",\n      \"properties\": {\n        \"dtype\": \"number\",\n        \"std\": 148618.81660545233,\n        \"min\": -19.9,\n        \"max\": 420370.0,\n        \"num_unique_values\": 8,\n        \"samples\": [\n          13.538975833816355,\n          14.5,\n          420370.0\n        ],\n        \"semantic_type\": \"\",\n        \"description\": \"\"\n      }\n    },\n    {\n      \"column\": \"PRES\",\n      \"properties\": {\n        \"dtype\": \"number\",\n        \"std\": 148318.4294997812,\n        \"min\": 10.474054749615195,\n        \"max\": 420375.0,\n        \"num_unique_values\": 8,\n        \"samples\": [\n          1010.7469819844983,\n          1010.4,\n          420375.0\n        ],\n        \"semantic_type\": \"\",\n        \"description\": \"\"\n      }\n    },\n    {\n      \"column\": \"DEWP\",\n      \"properties\": {\n        \"dtype\": \"number\",\n        \"std\": 148620.90262508806,\n        \"min\": -43.4,\n        \"max\": 420365.0,\n        \"num_unique_values\": 8,\n        \"samples\": [\n          2.490822023717484,\n          3.1,\n          420365.0\n        ],\n        \"semantic_type\": \"\",\n        \"description\": \"\"\n      }\n    },\n    {\n      \"column\": \"RAIN\",\n      \"properties\": {\n        \"dtype\": \"number\",\n        \"std\": 148622.36286110675,\n        \"min\": 0.0,\n        \"max\": 420378.0,\n        \"num_unique_values\": 5,\n        \"samples\": [\n          0.06447578132062096,\n          72.5,\n          0.8210041463618168\n        ],\n        \"semantic_type\": \"\",\n        \"description\": \"\"\n      }\n    },\n    {\n      \"column\": \"WSPM\",\n      \"properties\": {\n        \"dtype\": \"number\",\n        \"std\": 148650.47883460674,\n        \"min\": 0.0,\n        \"max\": 420450.0,\n        \"num_unique_values\": 8,\n        \"samples\": [\n          1.729710548222143,\n          1.4,\n          420450.0\n        ],\n        \"semantic_type\": \"\",\n        \"description\": \"\"\n      }\n    }\n  ]\n}"
            }
          },
          "metadata": {},
          "execution_count": 78
        }
      ]
    },
    {
      "cell_type": "markdown",
      "metadata": {
        "id": "hYnq5wOiIW-s"
      },
      "source": [
        "### Gathering Data"
      ]
    },
    {
      "cell_type": "markdown",
      "metadata": {
        "id": "FHSiqaZp8DC1"
      },
      "source": [
        "### Assessing Data"
      ]
    },
    {
      "cell_type": "code",
      "execution_count": 79,
      "metadata": {
        "id": "ax-3tEjc9Cj1",
        "colab": {
          "base_uri": "https://localhost:8080/"
        },
        "outputId": "506e71cf-e6a2-4403-abb5-3e162155c6e5"
      },
      "outputs": [
        {
          "output_type": "stream",
          "name": "stdout",
          "text": [
            "Jumlah baris: 420768\n",
            "Jumlah kolom: 17\n",
            "\n",
            "Ringkasan Statistik:\n",
            "                year          month            day           hour  \\\n",
            "count  420768.000000  420768.000000  420768.000000  420768.000000   \n",
            "mean     2014.662560       6.522930      15.729637      11.500000   \n",
            "std         1.177198       3.448707       8.800102       6.922195   \n",
            "min      2013.000000       1.000000       1.000000       0.000000   \n",
            "25%      2014.000000       4.000000       8.000000       5.750000   \n",
            "50%      2015.000000       7.000000      16.000000      11.500000   \n",
            "75%      2016.000000      10.000000      23.000000      17.250000   \n",
            "max      2017.000000      12.000000      31.000000      23.000000   \n",
            "\n",
            "               PM2.5           PM10            SO2            NO2  \\\n",
            "count  412029.000000  414319.000000  411747.000000  408652.000000   \n",
            "mean       79.793428     104.602618      15.830835      50.638586   \n",
            "std        80.822391      91.772426      21.650603      35.127912   \n",
            "min         2.000000       2.000000       0.285600       1.026500   \n",
            "25%        20.000000      36.000000       3.000000      23.000000   \n",
            "50%        55.000000      82.000000       7.000000      43.000000   \n",
            "75%       111.000000     145.000000      20.000000      71.000000   \n",
            "max       999.000000     999.000000     500.000000     290.000000   \n",
            "\n",
            "                  CO             O3           TEMP           PRES  \\\n",
            "count  400067.000000  407491.000000  420370.000000  420375.000000   \n",
            "mean     1230.766454      57.372271      13.538976    1010.746982   \n",
            "std      1160.182716      56.661607      11.436139      10.474055   \n",
            "min       100.000000       0.214200     -19.900000     982.400000   \n",
            "25%       500.000000      11.000000       3.100000    1002.300000   \n",
            "50%       900.000000      45.000000      14.500000    1010.400000   \n",
            "75%      1500.000000      82.000000      23.300000    1019.000000   \n",
            "max     10000.000000    1071.000000      41.600000    1042.800000   \n",
            "\n",
            "                DEWP           RAIN           WSPM  \n",
            "count  420365.000000  420378.000000  420450.000000  \n",
            "mean        2.490822       0.064476       1.729711  \n",
            "std        13.793847       0.821004       1.246386  \n",
            "min       -43.400000       0.000000       0.000000  \n",
            "25%        -8.900000       0.000000       0.900000  \n",
            "50%         3.100000       0.000000       1.400000  \n",
            "75%        15.100000       0.000000       2.200000  \n",
            "max        29.100000      72.500000      13.200000  \n"
          ]
        }
      ],
      "source": [
        "print(\"Jumlah baris:\", combined_df.shape[0])\n",
        "print(\"Jumlah kolom:\", combined_df.shape[1])\n",
        "print(\"\\nRingkasan Statistik:\")\n",
        "print(combined_df.describe())\n"
      ]
    },
    {
      "cell_type": "code",
      "execution_count": 80,
      "metadata": {
        "id": "8Q1Su8yKImW0",
        "colab": {
          "base_uri": "https://localhost:8080/"
        },
        "outputId": "bc4a28e3-67a0-412c-e12b-950bd92313dc"
      },
      "outputs": [
        {
          "output_type": "stream",
          "name": "stdout",
          "text": [
            "\n",
            "Nilai yang Hilang:\n",
            "year           0\n",
            "month          0\n",
            "day            0\n",
            "hour           0\n",
            "PM2.5       8739\n",
            "PM10        6449\n",
            "SO2         9021\n",
            "NO2        12116\n",
            "CO         20701\n",
            "O3         13277\n",
            "TEMP         398\n",
            "PRES         393\n",
            "DEWP         403\n",
            "RAIN         390\n",
            "wd          1822\n",
            "WSPM         318\n",
            "station        0\n",
            "dtype: int64\n"
          ]
        }
      ],
      "source": [
        "jumlah_nilai_hilang = combined_df.isnull().sum()\n",
        "print(\"\\nNilai yang Hilang:\")\n",
        "print(jumlah_nilai_hilang)\n"
      ]
    },
    {
      "cell_type": "code",
      "execution_count": 81,
      "metadata": {
        "id": "E9woiN15IubI",
        "colab": {
          "base_uri": "https://localhost:8080/"
        },
        "outputId": "7b3ad640-f7c4-4b25-93b7-f54ccbddcea3"
      },
      "outputs": [
        {
          "output_type": "stream",
          "name": "stdout",
          "text": [
            "\n",
            "Tipe Data:\n",
            "year         int64\n",
            "month        int64\n",
            "day          int64\n",
            "hour         int64\n",
            "PM2.5      float64\n",
            "PM10       float64\n",
            "SO2        float64\n",
            "NO2        float64\n",
            "CO         float64\n",
            "O3         float64\n",
            "TEMP       float64\n",
            "PRES       float64\n",
            "DEWP       float64\n",
            "RAIN       float64\n",
            "wd          object\n",
            "WSPM       float64\n",
            "station     object\n",
            "dtype: object\n"
          ]
        }
      ],
      "source": [
        "# Jenis Data\n",
        "print(\"\\nTipe Data:\")\n",
        "print(combined_df.dtypes)\n",
        "\n"
      ]
    },
    {
      "cell_type": "markdown",
      "metadata": {
        "id": "EhN5R4hr8DC1"
      },
      "source": [
        "### Cleaning Data"
      ]
    },
    {
      "cell_type": "code",
      "execution_count": 82,
      "metadata": {
        "id": "jVnYpprE9Evz"
      },
      "outputs": [],
      "source": [
        "combined_df.dropna(inplace=True)"
      ]
    },
    {
      "cell_type": "code",
      "execution_count": 84,
      "metadata": {
        "id": "e9CQCZjk8DC2",
        "colab": {
          "base_uri": "https://localhost:8080/"
        },
        "outputId": "18d88d19-1703-43a8-809e-9a28b6649b7a"
      },
      "outputs": [
        {
          "output_type": "stream",
          "name": "stdout",
          "text": [
            "Gambaran Umum Dataset:\n",
            "\n",
            "Jumlah Baris: 420768\n",
            "\n",
            "Jumlah Fitur: 17\n",
            "\n",
            "Fitur:\n",
            "['year', 'month', 'day', 'hour', 'PM2.5', 'PM10', 'SO2', 'NO2', 'CO', 'O3', 'TEMP', 'PRES', 'DEWP', 'RAIN', 'wd', 'WSPM', 'station']\n",
            "\n",
            "Nilai yang Hilang: 74027\n",
            "\n",
            "Nilai Unik:\n",
            "year          5\n",
            "month        12\n",
            "day          31\n",
            "hour         24\n",
            "PM2.5       888\n",
            "PM10       1084\n",
            "SO2         691\n",
            "NO2        1212\n",
            "CO          132\n",
            "O3         1598\n",
            "TEMP       2034\n",
            "PRES        726\n",
            "DEWP        645\n",
            "RAIN        253\n",
            "wd           16\n",
            "WSPM        117\n",
            "station      12\n",
            "dtype: int64\n"
          ]
        }
      ],
      "source": [
        "def overview_of_dataset(combined_df, message):\n",
        "    print(f'{message}:\\n')\n",
        "    print(\"Jumlah Baris:\", combined_df.shape[0])\n",
        "    print(\"\\nJumlah Fitur:\", combined_df.shape[1])\n",
        "    print(\"\\nFitur:\")\n",
        "    print(combined_df.columns.tolist())\n",
        "    print(\"\\nNilai yang Hilang:\", combined_df.isna().sum().values.sum())\n",
        "    print(\"\\nNilai Unik:\")\n",
        "    print(combined_df.nunique())\n",
        "\n",
        "overview_of_dataset(combined_df, 'Gambaran Umum Dataset')\n",
        "\n",
        "\n"
      ]
    },
    {
      "cell_type": "markdown",
      "metadata": {
        "id": "gp-Y6wU38DC1"
      },
      "source": [
        "## Exploratory Data Analysis (EDA)"
      ]
    },
    {
      "cell_type": "markdown",
      "metadata": {
        "id": "MW7WF2kr8DC1"
      },
      "source": [
        "\n",
        "\n",
        "```\n",
        "# This is formatted as code\n",
        "```\n",
        "\n",
        "### Explore what polutant appear the most"
      ]
    },
    {
      "cell_type": "code",
      "execution_count": 90,
      "metadata": {
        "id": "yN64L_w6NVNL",
        "colab": {
          "base_uri": "https://localhost:8080/"
        },
        "outputId": "346a33cc-7c0b-4411-feac-1458eb39c6b7"
      },
      "outputs": [
        {
          "output_type": "stream",
          "name": "stdout",
          "text": [
            "Polutan Udara Paling Umum:\n",
            "PM2.5: 3.0\n",
            "PM10: 6.0\n",
            "SO2: 2.0\n",
            "NO2: 16.0\n",
            "CO: 300.0\n",
            "O3: 2.0\n"
          ]
        }
      ],
      "source": [
        "# Kolom-kolom yang berisi data polutan udara\n",
        "polutan_udara = ['PM2.5', 'PM10', 'SO2', 'NO2', 'CO', 'O3']\n",
        "\n",
        "# Mencari nilai yang paling umum untuk setiap polutan\n",
        "polutan_umum = {}\n",
        "for polutan in polutan_udara:\n",
        "    nilai_umum = combined_df[polutan].mode()\n",
        "    polutan_umum[polutan] = nilai_umum\n",
        "\n",
        "# Menampilkan polutan udara paling umum dalam dataset\n",
        "print(\"Polutan Udara Paling Umum:\")\n",
        "for polutan, nilai in polutan_umum.items():\n",
        "    print(f\"{polutan}: {', '.join(map(str, nilai.tolist()))}\")\n"
      ]
    },
    {
      "cell_type": "code",
      "execution_count": 89,
      "metadata": {
        "id": "34CGqud6NvYi",
        "colab": {
          "base_uri": "https://localhost:8080/"
        },
        "outputId": "ebc1affc-2dca-4245-bdce-9ad4e0a88d6f"
      },
      "outputs": [
        {
          "output_type": "stream",
          "name": "stdout",
          "text": [
            "Polutan Udara Paling Umum dalam Dataset adalah: CO\n"
          ]
        }
      ],
      "source": [
        "# Kolom-kolom yang mengandung data polutan udara\n",
        "pollutants = ['PM2.5', 'PM10', 'SO2', 'NO2', 'CO', 'O3']\n",
        "\n",
        "# Mencari frekuensi kemunculan masing-masing polutan\n",
        "pollutant_counts = {}\n",
        "for pollutant in pollutants:\n",
        "    count = combined_df[pollutant].mode().values[0]\n",
        "    pollutant_counts[pollutant] = count\n",
        "\n",
        "# Menentukan polutan udara yang paling umum\n",
        "most_common_pollutant = max(pollutant_counts, key=pollutant_counts.get)\n",
        "\n",
        "print(f\"Polutan Udara Paling Umum dalam Dataset adalah: {most_common_pollutant}\")"
      ]
    },
    {
      "cell_type": "markdown",
      "metadata": {
        "id": "zsyZjqak8DC2"
      },
      "source": [
        "## Visualization & Explanatory Analysis"
      ]
    },
    {
      "cell_type": "markdown",
      "metadata": {
        "id": "HZxOiQ6n8DC2"
      },
      "source": [
        "### Pertanyaan 1: Apa tingkat polutan udara yang paling banyak?"
      ]
    },
    {
      "cell_type": "code",
      "execution_count": 88,
      "metadata": {
        "id": "1swJUdAD8DC2",
        "colab": {
          "base_uri": "https://localhost:8080/",
          "height": 590
        },
        "outputId": "32e52518-00d8-4e3a-9ca2-482fe0701517"
      },
      "outputs": [
        {
          "output_type": "display_data",
          "data": {
            "text/plain": [
              "<Figure size 1000x600 with 1 Axes>"
            ],
            "image/png": "[encoded data removed]"
          },
          "metadata": {}
        }
      ],
      "source": [
        "# Kolom-kolom yang berisi data polutan udara\n",
        "polutan_udara = ['PM2.5', 'PM10', 'SO2', 'NO2', 'CO', 'O3']\n",
        "\n",
        "# Mencari frekuensi kemunculan masing-masing polutan\n",
        "frekuensi_polutan = combined_df[polutan_udara].mode().iloc[0]\n",
        "\n",
        "# Membuat diagram batang untuk polutan yang paling umum\n",
        "plt.figure(figsize=(10, 6))\n",
        "colors = ['red' if x == frekuensi_polutan.max() else 'lightsalmon' for x in frekuensi_polutan]\n",
        "frekuensi_polutan.plot(kind='bar', color=colors)\n",
        "plt.title('Polutan Udara Paling Umum dalam Dataset')\n",
        "plt.xlabel('Polutan Udara')\n",
        "plt.ylabel('Frekuensi Kemunculan')\n",
        "plt.xticks(rotation=45)\n",
        "plt.show()\n"
      ]
    },
    {
      "cell_type": "markdown",
      "metadata": {
        "id": "DgHI7CiU8DC2"
      },
      "source": [
        "### Pertanyaan 2:"
      ]
    },
    {
      "cell_type": "code",
      "execution_count": 94,
      "metadata": {
        "id": "ZDukBHEwOPlp",
        "colab": {
          "base_uri": "https://localhost:8080/",
          "height": 564
        },
        "outputId": "98eeb64b-092e-4cd6-aef9-09025b4adf5d"
      },
      "outputs": [
        {
          "output_type": "display_data",
          "data": {
            "text/plain": [
              "<Figure size 1200x600 with 1 Axes>"
            ],
            "image/png": "[encoded data removed]"
          },
          "metadata": {}
        }
      ],
      "source": [
        "# Agregasi data bulanan\n",
        "annual_data = combined_df.groupby('month').agg({'PM2.5': 'mean', 'PM10': 'mean', 'SO2': 'mean', 'NO2': 'mean', 'CO': 'mean', 'O3': 'mean'})\n",
        "\n",
        "# Visualisasi data bulanan\n",
        "plt.figure(figsize=(12, 6))\n",
        "for column in annual_data.columns:\n",
        "    plt.plot(annual_data.index, annual_data[column], label=column)\n",
        "\n",
        "plt.title('Variasi Bulanan Kualitas Udara')\n",
        "plt.xlabel('Bulan')\n",
        "plt.ylabel('Nilai Rata-Rata')\n",
        "plt.legend()\n",
        "plt.show()"
      ]
    },
    {
      "cell_type": "markdown",
      "metadata": {
        "id": "_WeHlCeX8DC2"
      },
      "source": [
        "## Conclusion"
      ]
    },
    {
      "cell_type": "markdown",
      "metadata": {
        "id": "ZTcyR48Y8DC2"
      },
      "source": [
        "- Conclution pertanyaan 1 : Apa tingkat polutan udara yang paling banyak?CO.\n",
        "- conclution pertanyaan 2 : Bagaimana tren kualitas udara selama periode waktu bulanan? Tren bulanan kuantitas CO menunjukkan peningkatan yang signifikan dari waktu ke waktu, mengungguli polutan lainnya pada tahun 2017 di mana kuantitasnya mencapai puncaknya.\n",
        "\n",
        "\n",
        "\n",
        "\n",
        "\n"
      ]
    },
    {
      "cell_type": "code",
      "source": [
        "combined_df.to_csv(\"merged\",index=False)"
      ],
      "metadata": {
        "id": "u1IWp-1JfFFk"
      },
      "execution_count": 97,
      "outputs": []
    }
  ],
  "metadata": {
    "colab": {
      "provenance": []
    },
    "kernelspec": {
      "display_name": "Python 3",
      "language": "python",
      "name": "python3"
    },
    "language_info": {
      "name": "python",
      "version": "3.8.0 (tags/v3.8.0:fa919fd, Oct 14 2019, 19:21:23) [MSC v.1916 32 bit (Intel)]"
    },
    "vscode": {
      "interpreter": {
        "hash": "972b3bf27e332e87b5379f2791f6ef9dfc79c71018c370b0d7423235e20fe4d7"
      }
    }
  },
  "nbformat": 4,
  "nbformat_minor": 0
}